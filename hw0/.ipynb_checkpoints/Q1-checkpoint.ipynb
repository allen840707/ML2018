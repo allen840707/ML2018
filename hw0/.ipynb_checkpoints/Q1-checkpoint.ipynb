{
 "cells": [
  {
   "cell_type": "code",
   "execution_count": 133,
   "metadata": {
    "collapsed": false
   },
   "outputs": [],
   "source": [
    "#!/usr/bin/python\n",
    "#Q1\n",
    "from PIL import Image\n",
    "\n",
    "f = open(\"words.txt\", 'r')\n",
    "#f = open(\"test.txt\", 'r')\n",
    "text = f.read().split()\n",
    "dic = {}\n",
    "\n",
    "i = 0 \n",
    "for index in range(len(text)):\n",
    "    #print(text[index])\n",
    "    if text[index] in dic.keys():\n",
    "        #print(\"duplicate! \"+ text[index])\n",
    "        dic[text[index]][1]+=1\n",
    "    else:\n",
    "        dic[text[index]] = []\n",
    "        dic[text[index]].append(i)\n",
    "        dic[text[index]].append(1);\n",
    "        i+=1\n",
    "        #dic.update({ text[index]: 1 })\n",
    "        #dic[text[index]]\n",
    "        #print(\"new add   \" +  text[index] , str(index))\n",
    "        \n",
    "\n",
    "#print (dic)   \n",
    "#dic.keys()\n",
    "#dic.values()\n",
    "\n",
    "output = open('Q1.txt', 'w')\n",
    "\n",
    "for key,value in dic.items():\n",
    "    output.write(key + \" \" + str(value[0]) + \" \" + str(value[1]) )\n",
    "   \n",
    "    if value[0] == len(dic.keys())-1:\n",
    "        break;\n",
    "    else :\n",
    "        output.write('\\n')\n",
    "    \n",
    "    #print (key , value[0] , value[1])\n",
    "\n",
    "\n",
    "\n",
    "\n",
    "\n",
    "\n",
    "\n",
    "\n",
    "    \n",
    "\n",
    "\n",
    "    \n",
    "    \n",
    "    \n",
    "\n",
    "\n",
    "\n",
    "\n",
    "\n",
    "\n",
    "\n",
    "\n"
   ]
  },
  {
   "cell_type": "code",
   "execution_count": null,
   "metadata": {
    "collapsed": true
   },
   "outputs": [],
   "source": []
  },
  {
   "cell_type": "code",
   "execution_count": null,
   "metadata": {
    "collapsed": true
   },
   "outputs": [],
   "source": []
  }
 ],
 "metadata": {
  "kernelspec": {
   "display_name": "Python 3",
   "language": "python",
   "name": "python3"
  },
  "language_info": {
   "codemirror_mode": {
    "name": "ipython",
    "version": 3
   },
   "file_extension": ".py",
   "mimetype": "text/x-python",
   "name": "python",
   "nbconvert_exporter": "python",
   "pygments_lexer": "ipython3",
   "version": "3.6.0"
  }
 },
 "nbformat": 4,
 "nbformat_minor": 0
}
