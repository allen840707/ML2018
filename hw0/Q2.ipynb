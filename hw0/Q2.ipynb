{
 "cells": [
  {
   "cell_type": "code",
   "execution_count": 9,
   "metadata": {
    "collapsed": false
   },
   "outputs": [
    {
     "name": "stdout",
     "output_type": "stream",
     "text": [
      "JPEG (1920, 1080) RGB\n"
     ]
    }
   ],
   "source": [
    "#!/usr/bin/python\n",
    "#Q2\n",
    "from PIL import Image\n",
    "\n",
    "img = Image.open( \"../hw0/\" + \"westbrook.jpg\" )\n",
    "\n",
    "print (img.format, img.size, img.mode)\n",
    "\n",
    "pixels = img.load() # create the pixel map\n",
    "\n",
    "for i in range(img.size[0]):    # for every col:\n",
    "    for j in range(img.size[1]):    # For every row\n",
    "        R,G,B = pixels[i,j]  # set the colour accordingl\n",
    "        pixels[i,j] = int(R/2) ,int(G/2) , int(B/2)\n",
    "        \n",
    "img.show()\n",
    "\n",
    "img.save(\"Q2.jpg\")\n",
    "\n",
    "\n",
    "\n"
   ]
  },
  {
   "cell_type": "code",
   "execution_count": null,
   "metadata": {
    "collapsed": true
   },
   "outputs": [],
   "source": []
  },
  {
   "cell_type": "code",
   "execution_count": null,
   "metadata": {
    "collapsed": true
   },
   "outputs": [],
   "source": []
  },
  {
   "cell_type": "code",
   "execution_count": null,
   "metadata": {
    "collapsed": true
   },
   "outputs": [],
   "source": []
  },
  {
   "cell_type": "code",
   "execution_count": null,
   "metadata": {
    "collapsed": true
   },
   "outputs": [],
   "source": []
  },
  {
   "cell_type": "code",
   "execution_count": null,
   "metadata": {
    "collapsed": true
   },
   "outputs": [],
   "source": []
  }
 ],
 "metadata": {
  "kernelspec": {
   "display_name": "Python 3",
   "language": "python",
   "name": "python3"
  }
 },
 "nbformat": 4,
 "nbformat_minor": 0
}
